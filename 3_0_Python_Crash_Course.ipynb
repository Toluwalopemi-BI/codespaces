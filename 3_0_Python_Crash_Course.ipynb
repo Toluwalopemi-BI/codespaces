{
  "nbformat": 4,
  "nbformat_minor": 0,
  "metadata": {
    "colab": {
      "provenance": [],
      "include_colab_link": true
    },
    "kernelspec": {
      "name": "python3",
      "display_name": "Python 3"
    }
  },
  "cells": [
    {
      "cell_type": "markdown",
      "metadata": {
        "id": "view-in-github",
        "colab_type": "text"
      },
      "source": [
        "<a href=\"https://colab.research.google.com/github/Toluwalopemi-BI/codespaces/blob/main/3_0_Python_Crash_Course.ipynb\" target=\"_parent\"><img src=\"https://colab.research.google.com/assets/colab-badge.svg\" alt=\"Open In Colab\"/></a>"
      ]
    },
    {
      "cell_type": "markdown",
      "metadata": {
        "id": "bRxmqZOhWY87"
      },
      "source": [
        "# Python Beginners Tutorial\n",
        "\n"
      ]
    },
    {
      "cell_type": "markdown",
      "metadata": {
        "id": "zimA9OEsXOLW"
      },
      "source": [
        "### Let's start with Simple Variables\n",
        "\n",
        "**Variables** can be considered a container that holds or stores a peice of **information** from numbers to text. \n"
      ]
    },
    {
      "cell_type": "code",
      "metadata": {
        "id": "pV1YfnLSXOq6",
        "outputId": "3f9a9849-ac2c-4c80-ff58-0f2d8a8c7316",
        "colab": {
          "base_uri": "https://localhost:8080/"
        }
      },
      "source": [
        "# Storing a number\n",
        "a = 14\n",
        "print(a)"
      ],
      "execution_count": null,
      "outputs": [
        {
          "output_type": "stream",
          "name": "stdout",
          "text": [
            "14\n"
          ]
        }
      ]
    },
    {
      "cell_type": "code",
      "metadata": {
        "id": "DkD4O1acWix8",
        "outputId": "346b16f3-c041-443b-f729-4612a055208c",
        "colab": {
          "base_uri": "https://localhost:8080/",
          "height": 35
        }
      },
      "source": [
        "# Or text\n",
        "b = \"This is some text\"\n",
        "print(b)"
      ],
      "execution_count": null,
      "outputs": [
        {
          "output_type": "stream",
          "text": [
            "This is some text\n"
          ],
          "name": "stdout"
        }
      ]
    },
    {
      "cell_type": "markdown",
      "metadata": {
        "id": "R0QT0wxIXggf"
      },
      "source": [
        "### What can we do with variables?"
      ]
    },
    {
      "cell_type": "code",
      "metadata": {
        "id": "eEqpciAiXjCZ",
        "outputId": "58d8e7c8-e6b3-42dd-e30f-29ac0ae9bb11",
        "colab": {
          "base_uri": "https://localhost:8080/",
          "height": 35
        }
      },
      "source": [
        "# Let's add them together\n",
        "a = 14\n",
        "c = 3\n",
        "d = a + c\n",
        "print(d)"
      ],
      "execution_count": null,
      "outputs": [
        {
          "output_type": "stream",
          "text": [
            "17\n"
          ],
          "name": "stdout"
        }
      ]
    },
    {
      "cell_type": "code",
      "metadata": {
        "id": "d9w3MZg-XMqt",
        "outputId": "312d09d4-84c7-4221-ebc9-23a4c3499753",
        "colab": {
          "base_uri": "https://localhost:8080/",
          "height": 35
        }
      },
      "source": [
        "# Or\n",
        "print(a+c)"
      ],
      "execution_count": null,
      "outputs": [
        {
          "output_type": "stream",
          "text": [
            "17\n"
          ],
          "name": "stdout"
        }
      ]
    },
    {
      "cell_type": "code",
      "metadata": {
        "id": "pPUxe1beWcDX",
        "outputId": "ca200e7e-da2f-4d69-f8b3-5b415a853728",
        "colab": {
          "base_uri": "https://localhost:8080/"
        }
      },
      "source": [
        "# Can we change variable values?\n",
        "a = 18\n",
        "print(a)"
      ],
      "execution_count": null,
      "outputs": [
        {
          "output_type": "stream",
          "name": "stdout",
          "text": [
            "18\n"
          ]
        }
      ]
    },
    {
      "cell_type": "code",
      "metadata": {
        "id": "ZYe3vqeQXznr",
        "outputId": "7cd329ec-ab21-4dce-f28d-d0c3eb69f8a3",
        "colab": {
          "base_uri": "https://localhost:8080/"
        }
      },
      "source": [
        "# Equating or copying variables\n",
        "e = a\n",
        "print(e)"
      ],
      "execution_count": null,
      "outputs": [
        {
          "output_type": "stream",
          "name": "stdout",
          "text": [
            "18\n"
          ]
        }
      ]
    },
    {
      "cell_type": "code",
      "metadata": {
        "id": "jzgNJ_MLX8a3",
        "outputId": "4b31092d-d827-4e78-92fa-123150d2c309",
        "colab": {
          "base_uri": "https://localhost:8080/",
          "height": 156
        }
      },
      "source": [
        "# Types of Varaibles\n",
        "\n",
        "# Integer variable\n",
        "a = 1\n",
        "print(a)\n",
        "print(type(a))\n",
        "\n",
        "# Float variable (Non integer digits)\n",
        "a = 5.0\n",
        "print(a)\n",
        "print(type(a))\n",
        "\n",
        "# Boolean variable (True or False)\n",
        "a = True\n",
        "print(a)\n",
        "print(type(a))\n",
        "\n",
        "# Text variable also known as string variables\n",
        "a = \"7\" \n",
        "print(a)\n",
        "print(type(a))"
      ],
      "execution_count": null,
      "outputs": [
        {
          "output_type": "stream",
          "text": [
            "1\n",
            "<class 'int'>\n",
            "5.0\n",
            "<class 'float'>\n",
            "True\n",
            "<class 'bool'>\n",
            "7\n",
            "<class 'str'>\n"
          ],
          "name": "stdout"
        }
      ]
    },
    {
      "cell_type": "code",
      "metadata": {
        "id": "fzBecq7OYWl1",
        "outputId": "1f148cee-bcb0-4674-c170-4547f98eb3ab",
        "colab": {
          "base_uri": "https://localhost:8080/",
          "height": 87
        }
      },
      "source": [
        "# Be careful with variable operations \n",
        "\n",
        "x = 15\n",
        "y = 4\n",
        "z = x + y\n",
        "print(z)\n",
        "print(type(z))\n",
        "\n",
        "# string variables\n",
        "x = \"1\"\n",
        "y = \"2\"\n",
        "z = x + y\n",
        "print(z)\n",
        "print(type(z))"
      ],
      "execution_count": null,
      "outputs": [
        {
          "output_type": "stream",
          "text": [
            "19\n",
            "<class 'int'>\n",
            "12\n",
            "<class 'str'>\n"
          ],
          "name": "stdout"
        }
      ]
    },
    {
      "cell_type": "code",
      "metadata": {
        "id": "QZSoaBvAcpFL"
      },
      "source": [
        "# Or dividing\n",
        "\n",
        "a = "
      ],
      "execution_count": null,
      "outputs": []
    },
    {
      "cell_type": "markdown",
      "metadata": {
        "id": "WDOkE_pGY8j_"
      },
      "source": [
        "### Array or List Variables\n",
        "**Arrays or Lists** are extremely useful in programming. Think of them as containers with different compartment, where each compartment stores another variable."
      ]
    },
    {
      "cell_type": "code",
      "metadata": {
        "id": "ePI9jV8gZP3Y",
        "outputId": "0a5def7d-dac8-40d9-f739-0a77c23c2d84",
        "colab": {
          "base_uri": "https://localhost:8080/"
        }
      },
      "source": [
        "# A Simple array or integers\n",
        "a = [1,2,3]\n",
        "print(a)"
      ],
      "execution_count": 2,
      "outputs": [
        {
          "output_type": "stream",
          "name": "stdout",
          "text": [
            "[1, 2, 3]\n"
          ]
        }
      ]
    },
    {
      "cell_type": "code",
      "metadata": {
        "id": "2CEfuPglZDex",
        "outputId": "87dfe889-d586-4278-aeba-9c5fa2cc4b2c",
        "colab": {
          "base_uri": "https://localhost:8080/"
        }
      },
      "source": [
        "# Storing variables of different types is possible\n",
        "b =  [\"Text\", 4, 2.5]\n",
        "print(b)"
      ],
      "execution_count": 3,
      "outputs": [
        {
          "output_type": "stream",
          "name": "stdout",
          "text": [
            "['Text', 4, 2.5]\n"
          ]
        }
      ]
    },
    {
      "cell_type": "code",
      "metadata": {
        "id": "pYkAvDCSYuXy",
        "outputId": "cf9a60dd-373a-45c9-fd63-945ef4ce830a",
        "colab": {
          "base_uri": "https://localhost:8080/"
        }
      },
      "source": [
        "# Indexing Lists or accessing specific variables/locations in the list\n",
        "\n",
        "# How to print the first element?\n",
        "print(a[0])\n",
        "print(a[1])\n",
        "print(a[2])\n",
        "# Note lists always start at index or position 0, so a list that holds 3 numbers can be indexed with 0,1 & 2"
      ],
      "execution_count": 4,
      "outputs": [
        {
          "output_type": "stream",
          "name": "stdout",
          "text": [
            "1\n",
            "2\n",
            "3\n"
          ]
        }
      ]
    },
    {
      "cell_type": "code",
      "metadata": {
        "id": "r2yL5VOMZ2xA",
        "outputId": "f5b5fff0-3b1e-4669-aae4-bb92563fb096",
        "colab": {
          "base_uri": "https://localhost:8080/"
        }
      },
      "source": [
        "# Storing more elements onto your list using *apend*\n",
        "\n",
        "a.append(4)\n",
        "print(a)"
      ],
      "execution_count": 5,
      "outputs": [
        {
          "output_type": "stream",
          "name": "stdout",
          "text": [
            "[1, 2, 3, 4]\n"
          ]
        }
      ]
    },
    {
      "cell_type": "code",
      "metadata": {
        "id": "PkLqatC9Z9b1",
        "outputId": "f148f286-cc79-4155-9b5e-e94c269abfff",
        "colab": {
          "base_uri": "https://localhost:8080/"
        }
      },
      "source": [
        "# Getting our list length\n",
        "print(len(a))"
      ],
      "execution_count": 6,
      "outputs": [
        {
          "output_type": "stream",
          "name": "stdout",
          "text": [
            "4\n"
          ]
        }
      ]
    },
    {
      "cell_type": "code",
      "metadata": {
        "id": "8YqFs7x7aFiJ",
        "outputId": "255a2194-f096-49a6-ee87-a13dabdc2177",
        "colab": {
          "base_uri": "https://localhost:8080/"
        }
      },
      "source": [
        "# Changing the value of an element in a list\n",
        "\n",
        "a[3] = 5\n",
        "print(a)"
      ],
      "execution_count": 7,
      "outputs": [
        {
          "output_type": "stream",
          "name": "stdout",
          "text": [
            "[1, 2, 3, 5]\n"
          ]
        }
      ]
    },
    {
      "cell_type": "code",
      "metadata": {
        "id": "ASXqbJojaNcI",
        "outputId": "3fdcc08e-0bbb-431f-de9a-2243fc8b101e",
        "colab": {
          "base_uri": "https://localhost:8080/"
        }
      },
      "source": [
        "# Slicing lists is a technique used to get elements from, before or between different indices\n",
        "\n",
        "print(\"All elelemts: \", a[:])\n",
        "print(\"All elements from the 3rd position onward: \", a[2:])\n",
        "print(\"All elements between the 2nd and 4th position: \", a[1:3])\n",
        "print(\"All elements before the last postion\", a[:-1])\n",
        "\n",
        "# Very useful guide:\n",
        "\n",
        "#a[start:stop]  # items start through stop-1\n",
        "#a[start:]      # items start through the rest of the array\n",
        "#a[:stop]       # items from the beginning through stop-1\n",
        "#a[:]           # a copy of the whole array"
      ],
      "execution_count": 8,
      "outputs": [
        {
          "output_type": "stream",
          "name": "stdout",
          "text": [
            "All elelemts:  [1, 2, 3, 5]\n",
            "All elements from the 3rd position onward:  [3, 5]\n",
            "All elements between the 2nd and 4th position:  [2, 3]\n",
            "All elements before the last postion [1, 2, 3]\n"
          ]
        }
      ]
    },
    {
      "cell_type": "markdown",
      "metadata": {
        "id": "X4TL4IY0dwpL"
      },
      "source": [
        "## Dictionaries, the other very useful data type\n",
        "**Dictionaries** are python objects that store **key:value** pairs of data."
      ]
    },
    {
      "cell_type": "code",
      "metadata": {
        "id": "QK9owVwta_vz",
        "outputId": "febede30-a401-4397-a040-edfc0d6e9dac",
        "colab": {
          "base_uri": "https://localhost:8080/"
        }
      },
      "source": [
        "# Creating a dictionary\n",
        "country_info = {\"name\": \"Japan\",\n",
        "        \"capital\": \"Tokyo\"}\n",
        "\n",
        "print(country_info)\n",
        "print(country_info[\"name\"])\n",
        "print(country_info[\"capital\"])"
      ],
      "execution_count": 9,
      "outputs": [
        {
          "output_type": "stream",
          "name": "stdout",
          "text": [
            "{'name': 'Japan', 'capital': 'Tokyo'}\n",
            "Japan\n",
            "Tokyo\n"
          ]
        }
      ]
    },
    {
      "cell_type": "code",
      "metadata": {
        "id": "D57XXUTFeoA2",
        "outputId": "43ca7daf-d026-400e-c27d-f48b2b71fdf5",
        "colab": {
          "base_uri": "https://localhost:8080/"
        }
      },
      "source": [
        "# We can store multiple values and easily add information to our dictionary\n",
        "\n",
        "country_info['population'] = '126.8M'\n",
        "print(country_info)"
      ],
      "execution_count": 10,
      "outputs": [
        {
          "output_type": "stream",
          "name": "stdout",
          "text": [
            "{'name': 'Japan', 'capital': 'Tokyo', 'population': '126.8M'}\n"
          ]
        }
      ]
    },
    {
      "cell_type": "code",
      "metadata": {
        "id": "-YxNH48re-JW",
        "outputId": "4ed05944-1e0e-4f09-89e9-d04d1ddb06fc",
        "colab": {
          "base_uri": "https://localhost:8080/"
        }
      },
      "source": [
        "# We can also change values easily\n",
        "\n",
        "country_info['population'] = '100M'\n",
        "print(country_info)"
      ],
      "execution_count": 11,
      "outputs": [
        {
          "output_type": "stream",
          "name": "stdout",
          "text": [
            "{'name': 'Japan', 'capital': 'Tokyo', 'population': '100M'}\n"
          ]
        }
      ]
    },
    {
      "cell_type": "code",
      "metadata": {
        "id": "EY0CFm0yfMhl",
        "outputId": "600f769f-6ead-4b2f-b8f1-c0bbeef7fc8d",
        "colab": {
          "base_uri": "https://localhost:8080/"
        }
      },
      "source": [
        "# Values can be of any data type\n",
        "\n",
        "country_info['regions'] = ['Hokkaido', 'Tohoku', 'Kanto', 'Chubu', 'Kinki', 'Chugoku', 'Shikoku', 'Kyushu-Okinawa']\n",
        "print(country_info)"
      ],
      "execution_count": 12,
      "outputs": [
        {
          "output_type": "stream",
          "name": "stdout",
          "text": [
            "{'name': 'Japan', 'capital': 'Tokyo', 'population': '100M', 'regions': ['Hokkaido', 'Tohoku', 'Kanto', 'Chubu', 'Kinki', 'Chugoku', 'Shikoku', 'Kyushu-Okinawa']}\n"
          ]
        }
      ]
    },
    {
      "cell_type": "code",
      "metadata": {
        "id": "AvpiV2SRftmu",
        "outputId": "d289dc47-1fe2-41fe-c2dc-80b80870298d",
        "colab": {
          "base_uri": "https://localhost:8080/"
        }
      },
      "source": [
        "# Values can be of any data type - Even Dictionaries, these are called nested dictionaries\n",
        "\n",
        "country_info['health'] = {\"life_expectancy\": 84.1, \"birth_rate\": 1.44}\n",
        "print(country_info)"
      ],
      "execution_count": 13,
      "outputs": [
        {
          "output_type": "stream",
          "name": "stdout",
          "text": [
            "{'name': 'Japan', 'capital': 'Tokyo', 'population': '100M', 'regions': ['Hokkaido', 'Tohoku', 'Kanto', 'Chubu', 'Kinki', 'Chugoku', 'Shikoku', 'Kyushu-Okinawa'], 'health': {'life_expectancy': 84.1, 'birth_rate': 1.44}}\n"
          ]
        }
      ]
    },
    {
      "cell_type": "code",
      "metadata": {
        "id": "TDCk7sg2dK1p",
        "colab": {
          "base_uri": "https://localhost:8080/",
          "height": 201
        },
        "outputId": "28a74fb0-054c-4a38-aad9-e29de2fc8c37"
      },
      "source": [
        "import pprint\n",
        "\n",
        "pp.print(country_info)"
      ],
      "execution_count": 14,
      "outputs": [
        {
          "output_type": "error",
          "ename": "NameError",
          "evalue": "ignored",
          "traceback": [
            "\u001b[0;31m---------------------------------------------------------------------------\u001b[0m",
            "\u001b[0;31mNameError\u001b[0m                                 Traceback (most recent call last)",
            "\u001b[0;32m<ipython-input-14-9509791c84d5>\u001b[0m in \u001b[0;36m<module>\u001b[0;34m\u001b[0m\n\u001b[1;32m      1\u001b[0m \u001b[0;32mimport\u001b[0m \u001b[0mpprint\u001b[0m\u001b[0;34m\u001b[0m\u001b[0;34m\u001b[0m\u001b[0m\n\u001b[1;32m      2\u001b[0m \u001b[0;34m\u001b[0m\u001b[0m\n\u001b[0;32m----> 3\u001b[0;31m \u001b[0mpp\u001b[0m\u001b[0;34m.\u001b[0m\u001b[0mprint\u001b[0m\u001b[0;34m(\u001b[0m\u001b[0mcountry_info\u001b[0m\u001b[0;34m)\u001b[0m\u001b[0;34m\u001b[0m\u001b[0;34m\u001b[0m\u001b[0m\n\u001b[0m",
            "\u001b[0;31mNameError\u001b[0m: name 'pp' is not defined"
          ]
        }
      ]
    },
    {
      "cell_type": "code",
      "metadata": {
        "id": "wYaLR6ALgnIq",
        "outputId": "ebdc1682-f223-4b06-ee35-a7ec19011dee",
        "colab": {
          "base_uri": "https://localhost:8080/",
          "height": 35
        }
      },
      "source": [
        "# Accessing data in our nested dictionary\n",
        "\n",
        "country_info['health']['life_expectancy']"
      ],
      "execution_count": null,
      "outputs": [
        {
          "output_type": "execute_result",
          "data": {
            "text/plain": [
              "84.1"
            ]
          },
          "metadata": {
            "tags": []
          },
          "execution_count": 10
        }
      ]
    },
    {
      "cell_type": "code",
      "metadata": {
        "id": "J1xtocJrdsbj",
        "colab": {
          "base_uri": "https://localhost:8080/",
          "height": 55
        },
        "outputId": "e209aa89-be11-438e-d6a9-304166d255a1"
      },
      "source": [
        "country_info.values()"
      ],
      "execution_count": null,
      "outputs": [
        {
          "output_type": "execute_result",
          "data": {
            "text/plain": [
              "dict_values(['Japan', 'Tokyo', '100M', ['Hokkaido', 'Tohoku', 'Kanto', 'Chubu', 'Kinki', 'Chugoku', 'Shikoku', 'Kyushu-Okinawa'], {'life_expectancy': 84.1, 'birth_rate': 1.44}])"
            ]
          },
          "metadata": {
            "tags": []
          },
          "execution_count": 13
        }
      ]
    },
    {
      "cell_type": "markdown",
      "metadata": {
        "id": "tBMyCaI4gzu9"
      },
      "source": [
        "# Conditional Statements - If & Else\n",
        "\n",
        "If statements will prove invaluable in programming when handling siutations where decisions need to be made"
      ]
    },
    {
      "cell_type": "code",
      "metadata": {
        "id": "p180-t79gtHU",
        "outputId": "4870caa9-4238-4678-ad81-12efaefc825f",
        "colab": {
          "base_uri": "https://localhost:8080/"
        }
      },
      "source": [
        "# Using the if statement\n",
        "\n",
        "x = 19\n",
        "\n",
        "if x < 10:\n",
        "    print(\"less than 10\")\n",
        "else:\n",
        "  print(\"over 10\")"
      ],
      "execution_count": 1,
      "outputs": [
        {
          "output_type": "stream",
          "name": "stdout",
          "text": [
            "over 10\n"
          ]
        }
      ]
    },
    {
      "cell_type": "code",
      "metadata": {
        "id": "dFFVcDaAhuhn",
        "outputId": "bfe50e4a-a28c-41de-e889-b22011a365c7",
        "colab": {
          "base_uri": "https://localhost:8080/"
        }
      },
      "source": [
        "x = 29\n",
        "\n",
        "if x < 10:\n",
        "    print(\"less than 10\")\n",
        "elif x > 10 and x <= 19:\n",
        "    print(\"greater than zero but less than 10\")\n",
        "else:\n",
        "    print(\"over 20\")"
      ],
      "execution_count": 2,
      "outputs": [
        {
          "output_type": "stream",
          "name": "stdout",
          "text": [
            "over 20\n"
          ]
        }
      ]
    },
    {
      "cell_type": "code",
      "metadata": {
        "id": "NQv4SZENhgLV",
        "outputId": "164e31b0-256a-4a03-8071-2afc94525014",
        "colab": {
          "base_uri": "https://localhost:8080/"
        }
      },
      "source": [
        "# Using booleans of conditional statements\n",
        "\n",
        "a = True\n",
        "if a:\n",
        "  print(\"statement was true\")"
      ],
      "execution_count": 3,
      "outputs": [
        {
          "output_type": "stream",
          "name": "stdout",
          "text": [
            "statement was true\n"
          ]
        }
      ]
    },
    {
      "cell_type": "markdown",
      "metadata": {
        "id": "kLg-FVSMiall"
      },
      "source": [
        "# Loops\n",
        "\n",
        "Loops are another invaluable tool in programming, let's look at a few ways we can implement loops in Python"
      ]
    },
    {
      "cell_type": "code",
      "metadata": {
        "id": "ZZ5ogCPfiYI6",
        "outputId": "3fe2d657-c7d9-44bf-adef-5601ecc39a1c",
        "colab": {
          "base_uri": "https://localhost:8080/"
        }
      },
      "source": [
        "# Using the range function\n",
        "\n",
        "print(list(range(5)))\n",
        "\n",
        "# Or\n",
        "\n",
        "print(list(range(1,5)))"
      ],
      "execution_count": 4,
      "outputs": [
        {
          "output_type": "stream",
          "name": "stdout",
          "text": [
            "[0, 1, 2, 3, 4]\n",
            "[1, 2, 3, 4]\n"
          ]
        }
      ]
    },
    {
      "cell_type": "code",
      "metadata": {
        "id": "JBU80c3oipiM",
        "outputId": "accb1b43-2244-4833-a8ec-8df12a745ce5",
        "colab": {
          "base_uri": "https://localhost:8080/"
        }
      },
      "source": [
        "for i in range(0,5):\n",
        "  print(i)"
      ],
      "execution_count": 5,
      "outputs": [
        {
          "output_type": "stream",
          "name": "stdout",
          "text": [
            "0\n",
            "1\n",
            "2\n",
            "3\n",
            "4\n"
          ]
        }
      ]
    },
    {
      "cell_type": "code",
      "metadata": {
        "id": "5M3Hw2J_i9Rr",
        "outputId": "1955e678-c208-4a9f-8c40-74df2b1c1c02",
        "colab": {
          "base_uri": "https://localhost:8080/",
          "height": 87
        }
      },
      "source": [
        "# Python allows us to directly loop through items in a list\n",
        "\n",
        "items = ['a','b', 'c', 'd']\n",
        "for item in items:\n",
        "  print(item)"
      ],
      "execution_count": null,
      "outputs": [
        {
          "output_type": "stream",
          "text": [
            "a\n",
            "b\n",
            "c\n",
            "d\n"
          ],
          "name": "stdout"
        }
      ]
    },
    {
      "cell_type": "code",
      "metadata": {
        "id": "RLmP9dWPjpho",
        "outputId": "7cbdeddd-7ed4-491d-9045-d5c5f12f6572",
        "colab": {
          "base_uri": "https://localhost:8080/"
        }
      },
      "source": [
        "# Incrementing variables in loops and storing them in a list\n",
        "\n",
        "x = 0\n",
        "collecting_values_of_x = []\n",
        "\n",
        "items = ['a','b', 'c', 'd']\n",
        "for item in items:\n",
        "  x += 1\n",
        "  print(x, item)\n",
        "  collecting_values_of_x.append(x)\n",
        "\n",
        "print(collecting_values_of_x)"
      ],
      "execution_count": 6,
      "outputs": [
        {
          "output_type": "stream",
          "name": "stdout",
          "text": [
            "1 a\n",
            "2 b\n",
            "3 c\n",
            "4 d\n",
            "[1, 2, 3, 4]\n"
          ]
        }
      ]
    },
    {
      "cell_type": "code",
      "metadata": {
        "id": "m7PHFl_9jZOY",
        "outputId": "085e0eeb-ac7c-44d6-f37e-44bd6f1a5cfc",
        "colab": {
          "base_uri": "https://localhost:8080/"
        }
      },
      "source": [
        "# While loops\n",
        "\n",
        "x = 0\n",
        "while x < 5:\n",
        "    x += 1\n",
        "    print(x)"
      ],
      "execution_count": 7,
      "outputs": [
        {
          "output_type": "stream",
          "name": "stdout",
          "text": [
            "1\n",
            "2\n",
            "3\n",
            "4\n",
            "5\n"
          ]
        }
      ]
    },
    {
      "cell_type": "code",
      "metadata": {
        "id": "QV9S4x-xkEWW",
        "outputId": "871db5bf-f7f7-4cc2-ea81-8ffd38e47a39",
        "colab": {
          "base_uri": "https://localhost:8080/"
        }
      },
      "source": [
        "# While loops\n",
        "\n",
        "x = 0\n",
        "while True:\n",
        "    if x == 5:\n",
        "      break\n",
        "    x += 1\n",
        "    print(x)"
      ],
      "execution_count": 8,
      "outputs": [
        {
          "output_type": "stream",
          "name": "stdout",
          "text": [
            "1\n",
            "2\n",
            "3\n",
            "4\n",
            "5\n"
          ]
        }
      ]
    },
    {
      "cell_type": "markdown",
      "metadata": {
        "id": "x7i46vgQkvJs"
      },
      "source": [
        "# Functions\n",
        "\n",
        "Functions are extremely useful in creating peices of code you want to call or use several times in our program."
      ]
    },
    {
      "cell_type": "code",
      "metadata": {
        "id": "Jt_UfXekkVBG"
      },
      "source": [
        "# Simple function to return area of a circle\n",
        "\n",
        "def areaCircle(radius):\n",
        "  area = 3.14 * (radius**2)\n",
        "  return area\n"
      ],
      "execution_count": 9,
      "outputs": []
    },
    {
      "cell_type": "code",
      "metadata": {
        "id": "GLyvb1VplEDr",
        "outputId": "864e072a-9e02-4bce-af2d-f3dfd4308cf5",
        "colab": {
          "base_uri": "https://localhost:8080/",
          "height": 35
        }
      },
      "source": [
        "areaCircle(2)"
      ],
      "execution_count": null,
      "outputs": [
        {
          "output_type": "execute_result",
          "data": {
            "text/plain": [
              "12.56"
            ]
          },
          "metadata": {
            "tags": []
          },
          "execution_count": 63
        }
      ]
    },
    {
      "cell_type": "code",
      "metadata": {
        "id": "QtzNLj7FlFz4"
      },
      "source": [
        "# More complicated functions\n",
        "\n",
        "def volumeCylinder(radius, height):\n",
        "  volume = 3.14 * radius**2 * height\n",
        "  return volume"
      ],
      "execution_count": 10,
      "outputs": []
    },
    {
      "cell_type": "code",
      "metadata": {
        "id": "OGYfKiqdv-Ma",
        "outputId": "1b45dd10-6828-4644-f6be-2f1d42076db7",
        "colab": {
          "base_uri": "https://localhost:8080/"
        }
      },
      "source": [
        "volumeCylinder(radius = 5, height = 6)"
      ],
      "execution_count": 11,
      "outputs": [
        {
          "output_type": "execute_result",
          "data": {
            "text/plain": [
              "471.0"
            ]
          },
          "metadata": {},
          "execution_count": 11
        }
      ]
    },
    {
      "cell_type": "code",
      "metadata": {
        "id": "swh6MO3plI0b"
      },
      "source": [
        "# Default arguements\n",
        "\n",
        "def areaCircle(radius):\n",
        "  area = 3.14 * (radius**2)\n",
        "  return area"
      ],
      "execution_count": 12,
      "outputs": []
    },
    {
      "cell_type": "code",
      "metadata": {
        "id": "mcvf8QWQog50"
      },
      "source": [
        "# Creating a class\n",
        "class Book(object):\n",
        "    \"\"\"Class object for a book\"\"\"\n",
        "  \n",
        "    def __init__(self, title, author):\n",
        "        \"\"\"Initialize a new Book\"\"\"\n",
        "        self.title = title\n",
        "        self.author = authorti"
      ],
      "execution_count": 13,
      "outputs": []
    }
  ]
}